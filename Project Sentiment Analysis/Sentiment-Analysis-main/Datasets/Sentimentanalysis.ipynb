{
 "cells": [
  {
   "cell_type": "code",
   "execution_count": 3,
   "metadata": {},
   "outputs": [
    {
     "name": "stdout",
     "output_type": "stream",
     "text": [
      " * Serving Flask app '__main__'\n",
      " * Debug mode: on\n"
     ]
    },
    {
     "name": "stderr",
     "output_type": "stream",
     "text": [
      "WARNING: This is a development server. Do not use it in a production deployment. Use a production WSGI server instead.\n",
      " * Running on http://127.0.0.1:5000\n",
      "Press CTRL+C to quit\n",
      " * Restarting with stat\n"
     ]
    },
    {
     "ename": "SystemExit",
     "evalue": "1",
     "output_type": "error",
     "traceback": [
      "An exception has occurred, use %tb to see the full traceback.\n",
      "\u001b[1;31mSystemExit\u001b[0m\u001b[1;31m:\u001b[0m 1\n"
     ]
    }
   ],
   "source": [
    "from flask import Flask, render_template, request, redirect, url_for\n",
    "import sqlite3\n",
    "\n",
    "app = Flask(__name__)\n",
    "db_name = 'FeedbackDatabase.db'\n",
    "\n",
    "@app.route('/')\n",
    "def feedback_form():\n",
    "    return render_template('feedbackform.html')\n",
    "\n",
    "@app.route('/submit_feedback', methods=['POST'])\n",
    "def submit_feedback():\n",
    "    fullname = request.form.get('fullname')\n",
    "    email = request.form.get('email')\n",
    "    feedbackcomments = request.form.get('feedbackcomments')\n",
    "\n",
    "    # Save data to SQLite database\n",
    "    conn = sqlite3.connect('C:\\\\Jahnavi\\\\PythonProjects\\\\Database\\\\SQLLiteDBs\\\\FeedbackDatabase.db')\n",
    "    cursor = conn.cursor()\n",
    "    #cursor.execute('CREATE TABLE IF NOT EXISTS Feedback (fullname TEXT, email TEXT, feedbackcomments TEXT)')\n",
    "    cursor.execute('INSERT INTO Feedback (fullname, email, feedbackcomments) VALUES (?, ?, ?)',\n",
    "                   (fullname, email, feedbackcomments))\n",
    "    conn.commit()\n",
    "    conn.close()\n",
    "\n",
    "    return 'Feedback submitted successfully!'\n",
    "\n",
    "if __name__ == '__main__':\n",
    "    app.run(debug=True)\n"
   ]
  },
  {
   "cell_type": "code",
   "execution_count": 2,
   "metadata": {},
   "outputs": [],
   "source": [
    "from flask import Flask, render_template, request, redirect, url_for\n",
    "import sqlite3"
   ]
  }
 ],
 "metadata": {
  "kernelspec": {
   "display_name": "Python 3",
   "language": "python",
   "name": "python3"
  },
  "language_info": {
   "codemirror_mode": {
    "name": "ipython",
    "version": 3
   },
   "file_extension": ".py",
   "mimetype": "text/x-python",
   "name": "python",
   "nbconvert_exporter": "python",
   "pygments_lexer": "ipython3",
   "version": "3.11.9"
  }
 },
 "nbformat": 4,
 "nbformat_minor": 2
}
